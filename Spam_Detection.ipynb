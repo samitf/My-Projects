{
  "nbformat": 4,
  "nbformat_minor": 0,
  "metadata": {
    "colab": {
      "provenance": [],
      "authorship_tag": "ABX9TyPxpbP6BV3dd/5qGPF7LBA1"
    },
    "kernelspec": {
      "name": "python3",
      "display_name": "Python 3"
    },
    "language_info": {
      "name": "python"
    }
  },
  "cells": [
    {
      "cell_type": "markdown",
      "source": [
        "1. Import Libraries"
      ],
      "metadata": {
        "id": "Jgf2CcdGk97I"
      }
    },
    {
      "cell_type": "code",
      "execution_count": 131,
      "metadata": {
        "id": "OGl1D6WShtfN"
      },
      "outputs": [],
      "source": [
        "import pandas as pd\n",
        "import numpy as np\n",
        "from sklearn.feature_extraction.text import CountVectorizer, TfidfVectorizer\n",
        "from sklearn.model_selection import train_test_split\n",
        "from sklearn.naive_bayes import MultinomialNB\n",
        "from sklearn.linear_model import LogisticRegression\n",
        "from sklearn.svm import SVC\n",
        "from sklearn.ensemble import RandomForestClassifier\n",
        "from sklearn.metrics import accuracy_score, classification_report, confusion_matrix\n",
        "import seaborn as sns\n",
        "import matplotlib.pyplot as plt\n"
      ]
    },
    {
      "cell_type": "markdown",
      "source": [
        "2. Load Dataset\n",
        "\n",
        "The dataset used here is , \"The SMS Spam Collection\" it is a set of SMS tagged messages that have been collected for SMS Spam research. It contains one set of SMS messages in English of 5,574 messages, tagged acording being ham (legitimate) or spam.\n",
        "\n",
        "LINK : https://www.kaggle.com/datasets/uciml/sms-spam-collection-dataset"
      ],
      "metadata": {
        "id": "eIUwk1culR1B"
      }
    },
    {
      "cell_type": "code",
      "source": [
        "# Load dataset\n",
        "dataset = \"spam.csv\"\n",
        "df = pd.read_csv(dataset, encoding='latin1', usecols=[0, 1])\n",
        "\n",
        "# Display the first few rows to understand the structure\n",
        "print(df.head())\n"
      ],
      "metadata": {
        "colab": {
          "base_uri": "https://localhost:8080/"
        },
        "id": "ZAzNdd5BtCX3",
        "outputId": "ea213a46-3497-475d-c282-87a20175acbb"
      },
      "execution_count": 132,
      "outputs": [
        {
          "output_type": "stream",
          "name": "stdout",
          "text": [
            "     v1                                                 v2\n",
            "0   ham  Go until jurong point, crazy.. Available only ...\n",
            "1   ham                      Ok lar... Joking wif u oni...\n",
            "2  spam  Free entry in 2 a wkly comp to win FA Cup fina...\n",
            "3   ham  U dun say so early hor... U c already then say...\n",
            "4   ham  Nah I don't think he goes to usf, he lives aro...\n"
          ]
        }
      ]
    },
    {
      "cell_type": "code",
      "source": [
        "# Drop the first row\n",
        "df = df.drop(0)\n",
        "\n",
        "# Encode labels as 0 (ham) and 1 (spam)\n",
        "df['v1'] = df['v1'].map({'ham': 0, 'spam': 1})\n",
        "\n",
        "print(df.head())"
      ],
      "metadata": {
        "colab": {
          "base_uri": "https://localhost:8080/"
        },
        "id": "KSscQ1hUlRRQ",
        "outputId": "c81bb758-9c7b-4c61-c6cb-4cf348fcd810"
      },
      "execution_count": 133,
      "outputs": [
        {
          "output_type": "stream",
          "name": "stdout",
          "text": [
            "   v1                                                 v2\n",
            "1   0                      Ok lar... Joking wif u oni...\n",
            "2   1  Free entry in 2 a wkly comp to win FA Cup fina...\n",
            "3   0  U dun say so early hor... U c already then say...\n",
            "4   0  Nah I don't think he goes to usf, he lives aro...\n",
            "5   1  FreeMsg Hey there darling it's been 3 week's n...\n"
          ]
        }
      ]
    },
    {
      "cell_type": "markdown",
      "source": [
        "3. Data Preprocessing"
      ],
      "metadata": {
        "id": "A6-6uno7lk5w"
      }
    },
    {
      "cell_type": "code",
      "source": [
        "# Split data into training and testing sets\n",
        "X_train, X_test, y_train, y_test = train_test_split(df['v2'], df['v1'], test_size=0.2, random_state=42)\n",
        "\n",
        "# Visualize the split between training and testing data\n",
        "train_counts = y_train.value_counts()\n",
        "test_counts = y_test.value_counts()\n",
        "counts_df = pd.DataFrame({'train': train_counts, 'test': test_counts}).transpose()\n",
        "\n",
        "plt.figure(figsize=(10, 5))\n",
        "counts_df.plot(kind='bar', stacked=True)\n",
        "plt.title('Training and Testing Data Split')\n",
        "plt.xlabel('Dataset')\n",
        "plt.ylabel('Number of Samples')\n",
        "plt.legend(['Ham', 'Spam'])\n",
        "plt.show()"
      ],
      "metadata": {
        "colab": {
          "base_uri": "https://localhost:8080/",
          "height": 507
        },
        "id": "wOyBsrktlmqx",
        "outputId": "14ae09d3-fcbe-41c5-a9c8-1ecf43e6f5bb"
      },
      "execution_count": 144,
      "outputs": [
        {
          "output_type": "display_data",
          "data": {
            "text/plain": [
              "<Figure size 1000x500 with 0 Axes>"
            ]
          },
          "metadata": {}
        },
        {
          "output_type": "display_data",
          "data": {
            "text/plain": [
              "<Figure size 640x480 with 1 Axes>"
            ],
            "image/png": "[encoded data removed]"
          },
          "metadata": {}
        }
      ]
    },
    {
      "cell_type": "code",
      "source": [
        "# Vectorize text data using TF-IDF\n",
        "vectorizer = TfidfVectorizer(stop_words='english')\n",
        "X_train_tfidf = vectorizer.fit_transform(X_train)\n",
        "X_test_tfidf = vectorizer.transform(X_test)"
      ],
      "metadata": {
        "id": "_qqLyjRMyLi0"
      },
      "execution_count": null,
      "outputs": []
    },
    {
      "cell_type": "markdown",
      "source": [
        "4. Train Models"
      ],
      "metadata": {
        "id": "dSia61hHlqYA"
      }
    },
    {
      "cell_type": "markdown",
      "source": [
        "Naive Bayes\n",
        "\n"
      ],
      "metadata": {
        "id": "ajTQBIaLltsg"
      }
    },
    {
      "cell_type": "code",
      "source": [
        "nb = MultinomialNB()\n",
        "nb.fit(X_train_tfidf, y_train)\n",
        "y_pred_nb = nb.predict(X_test_tfidf)\n",
        "accuracy_nb = accuracy_score(y_test, y_pred_nb)\n",
        "print(f'Naive Bayes Accuracy: {accuracy_nb}')\n"
      ],
      "metadata": {
        "colab": {
          "base_uri": "https://localhost:8080/"
        },
        "id": "guMRhsx8loPo",
        "outputId": "f69647d3-6fbf-4228-d833-d8b37e2562b8"
      },
      "execution_count": 135,
      "outputs": [
        {
          "output_type": "stream",
          "name": "stdout",
          "text": [
            "Naive Bayes Accuracy: 0.9757847533632287\n"
          ]
        }
      ]
    },
    {
      "cell_type": "markdown",
      "source": [
        "Logistic Regression"
      ],
      "metadata": {
        "id": "-Bg5LHzPmCKw"
      }
    },
    {
      "cell_type": "code",
      "source": [
        "lr = LogisticRegression(max_iter=1000)\n",
        "lr.fit(X_train_tfidf, y_train)\n",
        "y_pred_lr = lr.predict(X_test_tfidf)\n",
        "accuracy_lr = accuracy_score(y_test, y_pred_lr)\n",
        "print(f'Logistic Regression Accuracy: {accuracy_lr}')\n"
      ],
      "metadata": {
        "colab": {
          "base_uri": "https://localhost:8080/"
        },
        "id": "As4LEOhXmEw4",
        "outputId": "fb8af194-a995-4b8c-a97d-e8c57dba2848"
      },
      "execution_count": 136,
      "outputs": [
        {
          "output_type": "stream",
          "name": "stdout",
          "text": [
            "Logistic Regression Accuracy: 0.9605381165919282\n"
          ]
        }
      ]
    },
    {
      "cell_type": "markdown",
      "source": [
        "Support Vector Machine (SVM)"
      ],
      "metadata": {
        "id": "MYFhkzlZmF55"
      }
    },
    {
      "cell_type": "code",
      "source": [
        "svm = SVC(kernel='linear')\n",
        "svm.fit(X_train_tfidf, y_train)\n",
        "y_pred_svm = svm.predict(X_test_tfidf)\n",
        "accuracy_svm = accuracy_score(y_test, y_pred_svm)\n",
        "print(f'SVM Accuracy: {accuracy_svm}')\n"
      ],
      "metadata": {
        "colab": {
          "base_uri": "https://localhost:8080/"
        },
        "id": "KHliAvptmFco",
        "outputId": "7bcfdaf1-4e5c-4c7c-e74d-ad20b949c68c"
      },
      "execution_count": 137,
      "outputs": [
        {
          "output_type": "stream",
          "name": "stdout",
          "text": [
            "SVM Accuracy: 0.9847533632286996\n"
          ]
        }
      ]
    },
    {
      "cell_type": "markdown",
      "source": [
        "Random Forest"
      ],
      "metadata": {
        "id": "DE0c1tFnmFMp"
      }
    },
    {
      "cell_type": "code",
      "source": [
        "rf = RandomForestClassifier(n_estimators=100)\n",
        "rf.fit(X_train_tfidf, y_train)\n",
        "y_pred_rf = rf.predict(X_test_tfidf)\n",
        "accuracy_rf = accuracy_score(y_test, y_pred_rf)\n",
        "print(f'Random Forest Accuracy: {accuracy_rf}')\n"
      ],
      "metadata": {
        "colab": {
          "base_uri": "https://localhost:8080/"
        },
        "id": "Gg4aTya9mPJ2",
        "outputId": "bb159e4d-fafd-4f37-a284-c36fe6458ead"
      },
      "execution_count": 138,
      "outputs": [
        {
          "output_type": "stream",
          "name": "stdout",
          "text": [
            "Random Forest Accuracy: 0.9757847533632287\n"
          ]
        }
      ]
    },
    {
      "cell_type": "markdown",
      "source": [
        "5. Evaluatation and Results"
      ],
      "metadata": {
        "id": "WV5Amx3DmRvN"
      }
    },
    {
      "cell_type": "code",
      "source": [
        "# Compare results\n",
        "models = ['Naive Bayes', 'Logistic Regression', 'SVM', 'Random Forest']\n",
        "accuracies = [accuracy_nb, accuracy_lr, accuracy_svm, accuracy_rf]\n",
        "\n",
        "plt.figure(figsize=(10, 5))\n",
        "sns.barplot(x=models, y=accuracies)\n",
        "plt.ylim(0.95, 1.0)\n",
        "plt.title('Accuracy of Different Models')\n",
        "plt.ylabel('Accuracy')\n",
        "plt.xlabel('Model')\n",
        "plt.show()"
      ],
      "metadata": {
        "colab": {
          "base_uri": "https://localhost:8080/",
          "height": 487
        },
        "id": "QbJSFqnymYJI",
        "outputId": "b36c3eb3-5512-4d51-9e70-ee0ded4f696f"
      },
      "execution_count": 139,
      "outputs": [
        {
          "output_type": "display_data",
          "data": {
            "text/plain": [
              "<Figure size 1000x500 with 1 Axes>"
            ],
            "image/png": "[encoded data removed]"
          },
          "metadata": {}
        }
      ]
    },
    {
      "cell_type": "markdown",
      "source": [
        "6. Evaluation Metrics"
      ],
      "metadata": {
        "id": "34HtPWtumXM_"
      }
    },
    {
      "cell_type": "code",
      "source": [
        "print('Naive Bayes Classification Report')\n",
        "print(classification_report(y_test, y_pred_nb))\n",
        "\n",
        "print('Logistic Regression Classification Report')\n",
        "print(classification_report(y_test, y_pred_lr))\n",
        "\n",
        "print('SVM Classification Report')\n",
        "print(classification_report(y_test, y_pred_svm))\n",
        "\n",
        "print('Random Forest Classification Report')\n",
        "print(classification_report(y_test, y_pred_rf))\n"
      ],
      "metadata": {
        "colab": {
          "base_uri": "https://localhost:8080/"
        },
        "id": "Qngpf85LmfTI",
        "outputId": "08de604a-41a2-439d-ce71-2f2fb1ad3570"
      },
      "execution_count": 140,
      "outputs": [
        {
          "output_type": "stream",
          "name": "stdout",
          "text": [
            "Naive Bayes Classification Report\n",
            "              precision    recall  f1-score   support\n",
            "\n",
            "           0       0.97      1.00      0.99       959\n",
            "           1       1.00      0.83      0.91       156\n",
            "\n",
            "    accuracy                           0.98      1115\n",
            "   macro avg       0.99      0.91      0.95      1115\n",
            "weighted avg       0.98      0.98      0.97      1115\n",
            "\n",
            "Logistic Regression Classification Report\n",
            "              precision    recall  f1-score   support\n",
            "\n",
            "           0       0.96      1.00      0.98       959\n",
            "           1       0.97      0.74      0.84       156\n",
            "\n",
            "    accuracy                           0.96      1115\n",
            "   macro avg       0.97      0.87      0.91      1115\n",
            "weighted avg       0.96      0.96      0.96      1115\n",
            "\n",
            "SVM Classification Report\n",
            "              precision    recall  f1-score   support\n",
            "\n",
            "           0       0.99      0.99      0.99       959\n",
            "           1       0.97      0.92      0.94       156\n",
            "\n",
            "    accuracy                           0.98      1115\n",
            "   macro avg       0.98      0.96      0.97      1115\n",
            "weighted avg       0.98      0.98      0.98      1115\n",
            "\n",
            "Random Forest Classification Report\n",
            "              precision    recall  f1-score   support\n",
            "\n",
            "           0       0.97      1.00      0.99       959\n",
            "           1       1.00      0.83      0.91       156\n",
            "\n",
            "    accuracy                           0.98      1115\n",
            "   macro avg       0.99      0.91      0.95      1115\n",
            "weighted avg       0.98      0.98      0.97      1115\n",
            "\n"
          ]
        }
      ]
    },
    {
      "cell_type": "markdown",
      "source": [
        "7. Inputs"
      ],
      "metadata": {
        "id": "XHE_1PeXnRbX"
      }
    },
    {
      "cell_type": "code",
      "source": [
        "def classify_text(text):\n",
        "    text_tfidf = vectorizer.transform([text])\n",
        "    predictions = {\n",
        "        'Naive Bayes': nb.predict(text_tfidf)[0],\n",
        "        'Logistic Regression': lr.predict(text_tfidf)[0],\n",
        "        'SVM': svm.predict(text_tfidf)[0],\n",
        "        'Random Forest': rf.predict(text_tfidf)[0]\n",
        "    }\n",
        "    return predictions\n",
        "\n",
        "# Input text\n",
        "new_text = input(\"Enter a text to classify as ham or spam: \")\n",
        "\n",
        "# Classify using all models\n",
        "predictions = classify_text(new_text)\n",
        "\n",
        "# Display the predictions with the corresponding accuracy\n",
        "for model in predictions:\n",
        "    label = 'spam' if predictions[model] == 1 else 'ham'\n",
        "    print(f\"{model} prediction: {label} \")\n"
      ],
      "metadata": {
        "colab": {
          "base_uri": "https://localhost:8080/"
        },
        "id": "aFwxOnvCnWPg",
        "outputId": "3d93b5d0-76b7-4df8-92e1-4763308273a3"
      },
      "execution_count": 141,
      "outputs": [
        {
          "output_type": "stream",
          "name": "stdout",
          "text": [
            "Enter a text to classify as ham or spam: get free internships worth 9 lakhs for free call us at 000-111-222\n",
            "Naive Bayes prediction: spam \n",
            "Logistic Regression prediction: spam \n",
            "SVM prediction: spam \n",
            "Random Forest prediction: ham \n"
          ]
        }
      ]
    }
  ]
}