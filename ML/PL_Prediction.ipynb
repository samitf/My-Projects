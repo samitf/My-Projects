{
  "nbformat": 4,
  "nbformat_minor": 0,
  "metadata": {
    "colab": {
      "provenance": [],
      "authorship_tag": "ABX9TyO2xh4DOW2BqfqrL6ooyVKg",
      "include_colab_link": true
    },
    "kernelspec": {
      "name": "python3",
      "display_name": "Python 3"
    },
    "language_info": {
      "name": "python"
    }
  },
  "cells": [
    {
      "cell_type": "markdown",
      "metadata": {
        "id": "view-in-github",
        "colab_type": "text"
      },
      "source": [
        "<a href=\"https://colab.research.google.com/github/samitf/My-Projects/blob/main/ML/PL_Prediction.ipynb\" target=\"_parent\"><img src=\"https://colab.research.google.com/assets/colab-badge.svg\" alt=\"Open In Colab\"/></a>"
      ]
    },
    {
      "cell_type": "markdown",
      "source": [
        "1. Import Libraries"
      ],
      "metadata": {
        "id": "hPATNh669Ce5"
      }
    },
    {
      "cell_type": "code",
      "execution_count": 17,
      "metadata": {
        "id": "NtOWWQXp6_wx"
      },
      "outputs": [],
      "source": [
        "import pandas as pd\n",
        "import numpy as np\n",
        "from sklearn.model_selection import train_test_split\n",
        "from sklearn.linear_model import LinearRegression\n",
        "from sklearn.ensemble import RandomForestRegressor\n",
        "from sklearn.metrics import mean_squared_error"
      ]
    },
    {
      "cell_type": "markdown",
      "source": [
        "2. Load the Dataset\n",
        "\n",
        "I have used a dataset from kaggle\n",
        "\n",
        "LINK : https://www.kaggle.com/datasets/meraxes10/fantasy-premier-league-dataset-2024-2025/data"
      ],
      "metadata": {
        "id": "g31SQvUY9L8T"
      }
    },
    {
      "cell_type": "code",
      "source": [
        "# Load the dataset\n",
        "data = pd.read_csv('players.csv')\n",
        "\n",
        "# Data Cleaning: Handle missing values and drop irrelevant columns\n",
        "data.fillna(0, inplace=True)\n",
        "data = data.drop(columns=['id', 'news', 'news_added'])\n",
        "print(data.head())\n"
      ],
      "metadata": {
        "colab": {
          "base_uri": "https://localhost:8080/"
        },
        "id": "I2MDPSt79Pl-",
        "outputId": "26801227-fb53-4ee7-e497-2c28b8c4abef"
      },
      "execution_count": 67,
      "outputs": [
        {
          "output_type": "stream",
          "name": "stdout",
          "text": [
            "                           name  now_cost position     team  \\\n",
            "0         Fábio Ferreira Vieira        55      MID  Arsenal   \n",
            "1     Gabriel Fernando de Jesus        70      FWD  Arsenal   \n",
            "2  Gabriel dos Santos Magalhães        60      DEF  Arsenal   \n",
            "3                   Kai Havertz        80      FWD  Arsenal   \n",
            "4                     Karl Hein        40      GKP  Arsenal   \n",
            "\n",
            "   direct_freekicks_order  saves  now_cost_rank  selected_rank_type  \\\n",
            "0                     0.0      0            143                 153   \n",
            "1                     0.0      0             29                  26   \n",
            "2                     0.0      0             81                  12   \n",
            "3                     0.0      0             12                   5   \n",
            "4                     0.0      0            564                  53   \n",
            "\n",
            "   ict_index_rank  creativity_rank  ...  expected_goals_per_90  bps  \\\n",
            "0             322              268  ...                   0.39   67   \n",
            "1              71               84  ...                   0.38  271   \n",
            "2             110              239  ...                   0.13  676   \n",
            "3              19               47  ...                   0.42  515   \n",
            "4             448              436  ...                   0.00    0   \n",
            "\n",
            "   selected_by_percent  creativity  threat_rank  \\\n",
            "0                  0.1        88.8          254   \n",
            "1                  1.5       403.0           30   \n",
            "2                 11.9       121.9           92   \n",
            "3                 14.3       613.4           14   \n",
            "4                  0.3         0.0          410   \n",
            "\n",
            "   expected_goal_involvements_per_90  penalties_saved  ict_index  \\\n",
            "0                               0.59                0       25.5   \n",
            "1                               0.58                0      152.7   \n",
            "2                               0.15                0      117.9   \n",
            "3                               0.55                0      240.2   \n",
            "4                               0.00                0        0.0   \n",
            "\n",
            "   clean_sheets_per_90  influence  \n",
            "0                 0.31       82.8  \n",
            "1                 0.67      364.8  \n",
            "2                 0.47      675.8  \n",
            "3                 0.55      763.2  \n",
            "4                 0.00        0.0  \n",
            "\n",
            "[5 rows x 61 columns]\n"
          ]
        }
      ]
    },
    {
      "cell_type": "markdown",
      "source": [
        "3. Data Pre-processing"
      ],
      "metadata": {
        "id": "lN5U0ezo9O-J"
      }
    },
    {
      "cell_type": "code",
      "source": [
        "# Feature Selection: Select relevant features for goals and assists prediction\n",
        "features_goals = ['starts', 'expected_goal_involvements', 'expected_goals', 'minutes', 'now_cost']\n",
        "features_assists = ['starts', 'expected_assists', 'minutes', 'now_cost']"
      ],
      "metadata": {
        "id": "XtyN84Hz97uZ"
      },
      "execution_count": 68,
      "outputs": []
    },
    {
      "cell_type": "markdown",
      "source": [
        "For Goals"
      ],
      "metadata": {
        "id": "mOhUkN6V-daH"
      }
    },
    {
      "cell_type": "code",
      "source": [
        "# Data Preparation: Split the dataset into training and testing sets for goals prediction\n",
        "X_goals = data[features_goals]\n",
        "y_goals = data['goals_scored']\n",
        "X_train_goals, X_test_goals, y_train_goals, y_test_goals = train_test_split(X_goals, y_goals, test_size=0.2, random_state=42)"
      ],
      "metadata": {
        "id": "sb2kUN6C9-dp"
      },
      "execution_count": 69,
      "outputs": []
    },
    {
      "cell_type": "markdown",
      "source": [
        "For Assists"
      ],
      "metadata": {
        "id": "W0uqqL1N-lki"
      }
    },
    {
      "cell_type": "code",
      "source": [
        "# Data Preparation: Split the dataset into training and testing sets for assists prediction\n",
        "X_assists = data[features_assists]\n",
        "y_assists = data['assists']\n",
        "X_train_assists, X_test_assists, y_train_assists, y_test_assists = train_test_split(X_assists, y_assists, test_size=0.2, random_state=42)"
      ],
      "metadata": {
        "id": "wdjuUmBC-wdH"
      },
      "execution_count": 70,
      "outputs": []
    },
    {
      "cell_type": "markdown",
      "source": [
        "4. Train model"
      ],
      "metadata": {
        "id": "EqiSYoPI-Oek"
      }
    },
    {
      "cell_type": "markdown",
      "source": [
        "For Goals"
      ],
      "metadata": {
        "id": "vAJGMGSj-pZw"
      }
    },
    {
      "cell_type": "code",
      "source": [
        "# Model Building: Train a model for goals prediction\n",
        "model_goals = RandomForestRegressor()\n",
        "model_goals.fit(X_train_goals, y_train_goals)"
      ],
      "metadata": {
        "colab": {
          "base_uri": "https://localhost:8080/",
          "height": 75
        },
        "id": "MsjvbkS--QUG",
        "outputId": "97b4baf0-df0a-4b41-8514-bccb96da7d60"
      },
      "execution_count": 71,
      "outputs": [
        {
          "output_type": "execute_result",
          "data": {
            "text/plain": [
              "RandomForestRegressor()"
            ],
            "text/html": [
              "<style>#sk-container-id-9 {color: black;}#sk-container-id-9 pre{padding: 0;}#sk-container-id-9 div.sk-toggleable {background-color: white;}#sk-container-id-9 label.sk-toggleable__label {cursor: pointer;display: block;width: 100%;margin-bottom: 0;padding: 0.3em;box-sizing: border-box;text-align: center;}#sk-container-id-9 label.sk-toggleable__label-arrow:before {content: \"▸\";float: left;margin-right: 0.25em;color: #696969;}#sk-container-id-9 label.sk-toggleable__label-arrow:hover:before {color: black;}#sk-container-id-9 div.sk-estimator:hover label.sk-toggleable__label-arrow:before {color: black;}#sk-container-id-9 div.sk-toggleable__content {max-height: 0;max-width: 0;overflow: hidden;text-align: left;background-color: #f0f8ff;}#sk-container-id-9 div.sk-toggleable__content pre {margin: 0.2em;color: black;border-radius: 0.25em;background-color: #f0f8ff;}#sk-container-id-9 input.sk-toggleable__control:checked~div.sk-toggleable__content {max-height: 200px;max-width: 100%;overflow: auto;}#sk-container-id-9 input.sk-toggleable__control:checked~label.sk-toggleable__label-arrow:before {content: \"▾\";}#sk-container-id-9 div.sk-estimator input.sk-toggleable__control:checked~label.sk-toggleable__label {background-color: #d4ebff;}#sk-container-id-9 div.sk-label input.sk-toggleable__control:checked~label.sk-toggleable__label {background-color: #d4ebff;}#sk-container-id-9 input.sk-hidden--visually {border: 0;clip: rect(1px 1px 1px 1px);clip: rect(1px, 1px, 1px, 1px);height: 1px;margin: -1px;overflow: hidden;padding: 0;position: absolute;width: 1px;}#sk-container-id-9 div.sk-estimator {font-family: monospace;background-color: #f0f8ff;border: 1px dotted black;border-radius: 0.25em;box-sizing: border-box;margin-bottom: 0.5em;}#sk-container-id-9 div.sk-estimator:hover {background-color: #d4ebff;}#sk-container-id-9 div.sk-parallel-item::after {content: \"\";width: 100%;border-bottom: 1px solid gray;flex-grow: 1;}#sk-container-id-9 div.sk-label:hover label.sk-toggleable__label {background-color: #d4ebff;}#sk-container-id-9 div.sk-serial::before {content: \"\";position: absolute;border-left: 1px solid gray;box-sizing: border-box;top: 0;bottom: 0;left: 50%;z-index: 0;}#sk-container-id-9 div.sk-serial {display: flex;flex-direction: column;align-items: center;background-color: white;padding-right: 0.2em;padding-left: 0.2em;position: relative;}#sk-container-id-9 div.sk-item {position: relative;z-index: 1;}#sk-container-id-9 div.sk-parallel {display: flex;align-items: stretch;justify-content: center;background-color: white;position: relative;}#sk-container-id-9 div.sk-item::before, #sk-container-id-9 div.sk-parallel-item::before {content: \"\";position: absolute;border-left: 1px solid gray;box-sizing: border-box;top: 0;bottom: 0;left: 50%;z-index: -1;}#sk-container-id-9 div.sk-parallel-item {display: flex;flex-direction: column;z-index: 1;position: relative;background-color: white;}#sk-container-id-9 div.sk-parallel-item:first-child::after {align-self: flex-end;width: 50%;}#sk-container-id-9 div.sk-parallel-item:last-child::after {align-self: flex-start;width: 50%;}#sk-container-id-9 div.sk-parallel-item:only-child::after {width: 0;}#sk-container-id-9 div.sk-dashed-wrapped {border: 1px dashed gray;margin: 0 0.4em 0.5em 0.4em;box-sizing: border-box;padding-bottom: 0.4em;background-color: white;}#sk-container-id-9 div.sk-label label {font-family: monospace;font-weight: bold;display: inline-block;line-height: 1.2em;}#sk-container-id-9 div.sk-label-container {text-align: center;}#sk-container-id-9 div.sk-container {/* jupyter's `normalize.less` sets `[hidden] { display: none; }` but bootstrap.min.css set `[hidden] { display: none !important; }` so we also need the `!important` here to be able to override the default hidden behavior on the sphinx rendered scikit-learn.org. See: https://github.com/scikit-learn/scikit-learn/issues/21755 */display: inline-block !important;position: relative;}#sk-container-id-9 div.sk-text-repr-fallback {display: none;}</style><div id=\"sk-container-id-9\" class=\"sk-top-container\"><div class=\"sk-text-repr-fallback\"><pre>RandomForestRegressor()</pre><b>In a Jupyter environment, please rerun this cell to show the HTML representation or trust the notebook. <br />On GitHub, the HTML representation is unable to render, please try loading this page with nbviewer.org.</b></div><div class=\"sk-container\" hidden><div class=\"sk-item\"><div class=\"sk-estimator sk-toggleable\"><input class=\"sk-toggleable__control sk-hidden--visually\" id=\"sk-estimator-id-9\" type=\"checkbox\" checked><label for=\"sk-estimator-id-9\" class=\"sk-toggleable__label sk-toggleable__label-arrow\">RandomForestRegressor</label><div class=\"sk-toggleable__content\"><pre>RandomForestRegressor()</pre></div></div></div></div></div>"
            ]
          },
          "metadata": {},
          "execution_count": 71
        }
      ]
    },
    {
      "cell_type": "markdown",
      "source": [
        "For Assists"
      ],
      "metadata": {
        "id": "KV5dB1d0--yh"
      }
    },
    {
      "cell_type": "code",
      "source": [
        "# Model Building: Train a model for assists prediction\n",
        "model_assists = RandomForestRegressor()\n",
        "model_assists.fit(X_train_assists, y_train_assists)"
      ],
      "metadata": {
        "colab": {
          "base_uri": "https://localhost:8080/",
          "height": 75
        },
        "id": "dKeXuGzA_AW3",
        "outputId": "e273a118-c9c4-4640-fd17-272f8b00a68b"
      },
      "execution_count": 72,
      "outputs": [
        {
          "output_type": "execute_result",
          "data": {
            "text/plain": [
              "RandomForestRegressor()"
            ],
            "text/html": [
              "<style>#sk-container-id-10 {color: black;}#sk-container-id-10 pre{padding: 0;}#sk-container-id-10 div.sk-toggleable {background-color: white;}#sk-container-id-10 label.sk-toggleable__label {cursor: pointer;display: block;width: 100%;margin-bottom: 0;padding: 0.3em;box-sizing: border-box;text-align: center;}#sk-container-id-10 label.sk-toggleable__label-arrow:before {content: \"▸\";float: left;margin-right: 0.25em;color: #696969;}#sk-container-id-10 label.sk-toggleable__label-arrow:hover:before {color: black;}#sk-container-id-10 div.sk-estimator:hover label.sk-toggleable__label-arrow:before {color: black;}#sk-container-id-10 div.sk-toggleable__content {max-height: 0;max-width: 0;overflow: hidden;text-align: left;background-color: #f0f8ff;}#sk-container-id-10 div.sk-toggleable__content pre {margin: 0.2em;color: black;border-radius: 0.25em;background-color: #f0f8ff;}#sk-container-id-10 input.sk-toggleable__control:checked~div.sk-toggleable__content {max-height: 200px;max-width: 100%;overflow: auto;}#sk-container-id-10 input.sk-toggleable__control:checked~label.sk-toggleable__label-arrow:before {content: \"▾\";}#sk-container-id-10 div.sk-estimator input.sk-toggleable__control:checked~label.sk-toggleable__label {background-color: #d4ebff;}#sk-container-id-10 div.sk-label input.sk-toggleable__control:checked~label.sk-toggleable__label {background-color: #d4ebff;}#sk-container-id-10 input.sk-hidden--visually {border: 0;clip: rect(1px 1px 1px 1px);clip: rect(1px, 1px, 1px, 1px);height: 1px;margin: -1px;overflow: hidden;padding: 0;position: absolute;width: 1px;}#sk-container-id-10 div.sk-estimator {font-family: monospace;background-color: #f0f8ff;border: 1px dotted black;border-radius: 0.25em;box-sizing: border-box;margin-bottom: 0.5em;}#sk-container-id-10 div.sk-estimator:hover {background-color: #d4ebff;}#sk-container-id-10 div.sk-parallel-item::after {content: \"\";width: 100%;border-bottom: 1px solid gray;flex-grow: 1;}#sk-container-id-10 div.sk-label:hover label.sk-toggleable__label {background-color: #d4ebff;}#sk-container-id-10 div.sk-serial::before {content: \"\";position: absolute;border-left: 1px solid gray;box-sizing: border-box;top: 0;bottom: 0;left: 50%;z-index: 0;}#sk-container-id-10 div.sk-serial {display: flex;flex-direction: column;align-items: center;background-color: white;padding-right: 0.2em;padding-left: 0.2em;position: relative;}#sk-container-id-10 div.sk-item {position: relative;z-index: 1;}#sk-container-id-10 div.sk-parallel {display: flex;align-items: stretch;justify-content: center;background-color: white;position: relative;}#sk-container-id-10 div.sk-item::before, #sk-container-id-10 div.sk-parallel-item::before {content: \"\";position: absolute;border-left: 1px solid gray;box-sizing: border-box;top: 0;bottom: 0;left: 50%;z-index: -1;}#sk-container-id-10 div.sk-parallel-item {display: flex;flex-direction: column;z-index: 1;position: relative;background-color: white;}#sk-container-id-10 div.sk-parallel-item:first-child::after {align-self: flex-end;width: 50%;}#sk-container-id-10 div.sk-parallel-item:last-child::after {align-self: flex-start;width: 50%;}#sk-container-id-10 div.sk-parallel-item:only-child::after {width: 0;}#sk-container-id-10 div.sk-dashed-wrapped {border: 1px dashed gray;margin: 0 0.4em 0.5em 0.4em;box-sizing: border-box;padding-bottom: 0.4em;background-color: white;}#sk-container-id-10 div.sk-label label {font-family: monospace;font-weight: bold;display: inline-block;line-height: 1.2em;}#sk-container-id-10 div.sk-label-container {text-align: center;}#sk-container-id-10 div.sk-container {/* jupyter's `normalize.less` sets `[hidden] { display: none; }` but bootstrap.min.css set `[hidden] { display: none !important; }` so we also need the `!important` here to be able to override the default hidden behavior on the sphinx rendered scikit-learn.org. See: https://github.com/scikit-learn/scikit-learn/issues/21755 */display: inline-block !important;position: relative;}#sk-container-id-10 div.sk-text-repr-fallback {display: none;}</style><div id=\"sk-container-id-10\" class=\"sk-top-container\"><div class=\"sk-text-repr-fallback\"><pre>RandomForestRegressor()</pre><b>In a Jupyter environment, please rerun this cell to show the HTML representation or trust the notebook. <br />On GitHub, the HTML representation is unable to render, please try loading this page with nbviewer.org.</b></div><div class=\"sk-container\" hidden><div class=\"sk-item\"><div class=\"sk-estimator sk-toggleable\"><input class=\"sk-toggleable__control sk-hidden--visually\" id=\"sk-estimator-id-10\" type=\"checkbox\" checked><label for=\"sk-estimator-id-10\" class=\"sk-toggleable__label sk-toggleable__label-arrow\">RandomForestRegressor</label><div class=\"sk-toggleable__content\"><pre>RandomForestRegressor()</pre></div></div></div></div></div>"
            ]
          },
          "metadata": {},
          "execution_count": 72
        }
      ]
    },
    {
      "cell_type": "markdown",
      "source": [
        "5. Evaluation"
      ],
      "metadata": {
        "id": "9E-4Po3w_DIZ"
      }
    },
    {
      "cell_type": "markdown",
      "source": [
        "For Goals"
      ],
      "metadata": {
        "id": "0F26rTat_GPp"
      }
    },
    {
      "cell_type": "code",
      "source": [
        "# Evaluation: Evaluate the model for goals prediction\n",
        "y_pred_goals = model_goals.predict(X_test_goals)\n",
        "print(\"Goals Prediction Mean Squared Error:\", mean_squared_error(y_test_goals, y_pred_goals))"
      ],
      "metadata": {
        "colab": {
          "base_uri": "https://localhost:8080/"
        },
        "id": "Fn8WLklH_Kth",
        "outputId": "14cf39bd-4628-43df-9aca-713bf44e6941"
      },
      "execution_count": 73,
      "outputs": [
        {
          "output_type": "stream",
          "name": "stdout",
          "text": [
            "Goals Prediction Mean Squared Error: 1.8985820512820517\n"
          ]
        }
      ]
    },
    {
      "cell_type": "markdown",
      "source": [
        "For Assists"
      ],
      "metadata": {
        "id": "Llymg61h_HZp"
      }
    },
    {
      "cell_type": "code",
      "source": [
        "# Evaluation: Evaluate the model for assists prediction\n",
        "y_pred_assists = model_assists.predict(X_test_assists)\n",
        "print(\"Assists Prediction Mean Squared Error:\", mean_squared_error(y_test_assists, y_pred_assists))"
      ],
      "metadata": {
        "colab": {
          "base_uri": "https://localhost:8080/"
        },
        "id": "porc-PUb_KMq",
        "outputId": "8a1fb36a-833b-4515-d0ae-7321bbe6b61a"
      },
      "execution_count": 74,
      "outputs": [
        {
          "output_type": "stream",
          "name": "stdout",
          "text": [
            "Assists Prediction Mean Squared Error: 1.2977008547008548\n"
          ]
        }
      ]
    },
    {
      "cell_type": "markdown",
      "source": [
        "6. Prediction"
      ],
      "metadata": {
        "id": "M46MI5Xa_Y3H"
      }
    },
    {
      "cell_type": "code",
      "source": [
        "# Prediction: Predict the top 10 players with most goals and assists\n",
        "data['predicted_goals'] = model_goals.predict(data[features_goals])\n",
        "data['predicted_assists'] = model_assists.predict(data[features_assists])\n",
        "\n",
        "top_10_goals = data.sort_values(by='predicted_goals', ascending=False).head(10)\n",
        "top_10_assists = data.sort_values(by='predicted_assists', ascending=False).head(10)"
      ],
      "metadata": {
        "id": "kwmXbX2M_mGS"
      },
      "execution_count": 75,
      "outputs": []
    },
    {
      "cell_type": "markdown",
      "source": [
        "For Goals"
      ],
      "metadata": {
        "id": "bO6dnHnX_d2a"
      }
    },
    {
      "cell_type": "code",
      "source": [
        "print(\"Top 10 Players with Most Goals:\")\n",
        "print(top_10_goals[['name', 'predicted_goals', 'now_cost']])"
      ],
      "metadata": {
        "colab": {
          "base_uri": "https://localhost:8080/"
        },
        "id": "ZXBXfGps_Ucc",
        "outputId": "e322dee6-4aeb-4d37-b10c-e98dc0aef489"
      },
      "execution_count": 76,
      "outputs": [
        {
          "output_type": "stream",
          "name": "stdout",
          "text": [
            "Top 10 Players with Most Goals:\n",
            "                         name  predicted_goals  now_cost\n",
            "185               Cole Palmer            20.24       105\n",
            "362            Erling Haaland            18.90       150\n",
            "339             Mohamed Salah            18.75       125\n",
            "414            Alexander Isak            18.29        85\n",
            "58              Ollie Watkins            17.79        90\n",
            "520             Son Heung-min            17.04       100\n",
            "16                Bukayo Saka            16.79       100\n",
            "359                Phil Foden            16.40        95\n",
            "84   Dominic Solanke-Mitchell            14.82        75\n",
            "531              Jarrod Bowen            14.77        75\n"
          ]
        }
      ]
    },
    {
      "cell_type": "markdown",
      "source": [
        "For Assists"
      ],
      "metadata": {
        "id": "NcHZyhgE_fuT"
      }
    },
    {
      "cell_type": "code",
      "source": [
        "print(\"Top 10 Players with Most Assists:\")\n",
        "print(top_10_assists[['name', 'predicted_assists', 'now_cost']])"
      ],
      "metadata": {
        "colab": {
          "base_uri": "https://localhost:8080/"
        },
        "id": "QpvnZ1hT_fBS",
        "outputId": "0fab1ce4-9c2b-4cd9-8d79-a27148d55caa"
      },
      "execution_count": 77,
      "outputs": [
        {
          "output_type": "stream",
          "name": "stdout",
          "text": [
            "Top 10 Players with Most Assists:\n",
            "                   name  predicted_assists  now_cost\n",
            "58        Ollie Watkins              13.84        90\n",
            "411      Anthony Gordon              13.20        75\n",
            "185         Cole Palmer              11.74       105\n",
            "339       Mohamed Salah              11.74       125\n",
            "16          Bukayo Saka              11.19       100\n",
            "447  Morgan Gibbs-White              11.00        65\n",
            "508     Brennan Johnson              10.74        65\n",
            "511      James Maddison              10.63        75\n",
            "12      Martin Ødegaard              10.62        85\n",
            "128         Pascal Groß              10.55        65\n"
          ]
        }
      ]
    },
    {
      "cell_type": "code",
      "source": [
        "# Calculate value metrics (predicted goals/cost and predicted assists/cost)\n",
        "data['value_goals'] = data['predicted_goals'] / data['now_cost']\n",
        "data['value_assists'] = data['predicted_assists'] / data['now_cost']\n",
        "\n",
        "top_10_value_goals = data.sort_values(by='value_goals', ascending=False).head(10)\n",
        "top_10_value_assists = data.sort_values(by='value_assists', ascending=False).head(10)\n",
        "\n",
        "print(\"Top 10 Players with Best Goals Value:\")\n",
        "print(top_10_value_goals[['name', 'predicted_goals', 'now_cost', 'value_goals']])\n",
        "print(\"/n\")\n",
        "print(\"Top 10 Players with Best Assists Value:\")\n",
        "print(top_10_value_assists[['name', 'predicted_assists', 'now_cost', 'value_assists']])"
      ],
      "metadata": {
        "colab": {
          "base_uri": "https://localhost:8080/"
        },
        "id": "49_S2FSDCLK5",
        "outputId": "3d24c534-2a23-4339-c40e-bac28fa93555"
      },
      "execution_count": 78,
      "outputs": [
        {
          "output_type": "stream",
          "name": "stdout",
          "text": [
            "Top 10 Players with Best Goals Value:\n",
            "                              name  predicted_goals  now_cost  value_goals\n",
            "461                     Chris Wood            12.94        60     0.215667\n",
            "414                 Alexander Isak            18.29        85     0.215176\n",
            "132  João Pedro Junqueira de Jesus            11.74        55     0.213455\n",
            "58                   Ollie Watkins            17.79        90     0.197667\n",
            "84        Dominic Solanke-Mitchell            14.82        75     0.197600\n",
            "531                   Jarrod Bowen            14.77        75     0.196933\n",
            "183                Nicolas Jackson            14.62        75     0.194933\n",
            "185                    Cole Palmer            20.24       105     0.192762\n",
            "338                      Luis Díaz            14.01        75     0.186800\n",
            "212           Jean-Philippe Mateta            13.82        75     0.184267\n",
            "/n\n",
            "Top 10 Players with Best Assists Value:\n",
            "                                   name  predicted_assists  now_cost  \\\n",
            "411                      Anthony Gordon              13.20        75   \n",
            "447                  Morgan Gibbs-White              11.00        65   \n",
            "508                     Brennan Johnson              10.74        65   \n",
            "128                         Pascal Groß              10.55        65   \n",
            "431                     Kieran Trippier               9.49        60   \n",
            "28                          Leon Bailey              10.21        65   \n",
            "58                        Ollie Watkins              13.84        90   \n",
            "34                         Moussa Diaby               9.86        65   \n",
            "353  Bernardo Veiga de Carvalho e Silva               9.76        65   \n",
            "236                       Dwight McNeil               8.09        55   \n",
            "\n",
            "     value_assists  \n",
            "411       0.176000  \n",
            "447       0.169231  \n",
            "508       0.165231  \n",
            "128       0.162308  \n",
            "431       0.158167  \n",
            "28        0.157077  \n",
            "58        0.153778  \n",
            "34        0.151692  \n",
            "353       0.150154  \n",
            "236       0.147091  \n"
          ]
        }
      ]
    },
    {
      "cell_type": "markdown",
      "source": [
        "For Final Team Predictions"
      ],
      "metadata": {
        "id": "xiCFzOL_GdFG"
      }
    },
    {
      "cell_type": "code",
      "source": [
        "# Create team-level features\n",
        "team_features = data.groupby('team').agg({\n",
        "    'goals_scored': 'sum',\n",
        "    'assists': 'sum',\n",
        "    'clean_sheets': 'sum',\n",
        "    'goals_conceded': 'mean'\n",
        "}).reset_index()\n",
        "\n",
        "team_features['performance_score'] = team_features['goals_scored'] - team_features['goals_conceded']\n",
        "\n",
        "# Feature Engineering: Create features for team performance prediction\n",
        "X = team_features[['goals_scored', 'assists', 'clean_sheets', 'goals_conceded']]\n",
        "y = team_features['performance_score']  # Proxy for team strength or performance\n",
        "\n",
        "# Data Preparation: Split the dataset into training and testing sets\n",
        "X_train, X_test, y_train, y_test = train_test_split(X, y, test_size=0.2, random_state=42)\n",
        "\n",
        "# Model Building: Train a model for team performance prediction\n",
        "model_team_performance = RandomForestRegressor()\n",
        "model_team_performance.fit(X_train, y_train)\n",
        "\n",
        "# Evaluation: Evaluate the model\n",
        "y_pred = model_team_performance.predict(X_test)\n",
        "print(\"Team Performance Prediction Mean Squared Error:\", mean_squared_error(y_test, y_pred))\n",
        "\n",
        "# Prediction: Predict team performance based on the latest data\n",
        "latest_team_data = team_features  # Assume this is your latest data\n",
        "predicted_performance = model_team_performance.predict(latest_team_data[['goals_scored', 'assists', 'clean_sheets', 'goals_conceded']])\n",
        "\n",
        "# Add predictions to the latest team data\n",
        "latest_team_data['predicted_performance'] = predicted_performance\n",
        "\n",
        "# Sort by predicted performance\n",
        "sorted_team_data = latest_team_data.sort_values(by='predicted_performance', ascending=False)\n",
        "\n",
        "print(\"Predicted Team Performance:\")\n",
        "print(sorted_team_data[['team', 'predicted_performance']])\n"
      ],
      "metadata": {
        "colab": {
          "base_uri": "https://localhost:8080/"
        },
        "id": "K-uoPWAMEuq0",
        "outputId": "feff9c7f-24b9-4db7-9173-d67bcdca4f5b"
      },
      "execution_count": 80,
      "outputs": [
        {
          "output_type": "stream",
          "name": "stdout",
          "text": [
            "Team Performance Prediction Mean Squared Error: 37.24668378817361\n",
            "Predicted Team Performance:\n",
            "              team  predicted_performance\n",
            "12        Man City              73.002709\n",
            "0          Arsenal              68.032680\n",
            "11       Liverpool              65.199924\n",
            "5          Chelsea              63.091813\n",
            "1      Aston Villa              62.777362\n",
            "14       Newcastle              62.584085\n",
            "17           Spurs              52.412669\n",
            "13         Man Utd              30.296475\n",
            "4         Brighton              29.311284\n",
            "19          Wolves              27.624995\n",
            "15   Nott'm Forest              26.553773\n",
            "2      Bournemouth              25.695155\n",
            "6   Crystal Palace              25.603664\n",
            "18        West Ham              22.589912\n",
            "3        Brentford              22.522481\n",
            "7          Everton              16.901005\n",
            "8           Fulham              16.320279\n",
            "16     Southampton               4.192197\n",
            "10       Leicester               4.177736\n",
            "9          Ipswich               1.151234\n"
          ]
        }
      ]
    },
    {
      "cell_type": "markdown",
      "source": [
        "This is just an example usage on how we can approach for a prediction for individual goals and assists scorer of the season, best defensive side, etc, based upon which we can predict the winners , although, the Final results will depend on the players current form, injury status, signings, etc"
      ],
      "metadata": {
        "id": "alvExdrLGUek"
      }
    }
  ]
}